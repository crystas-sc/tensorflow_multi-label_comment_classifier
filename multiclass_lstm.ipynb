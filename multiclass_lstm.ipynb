{
 "cells": [
  {
   "cell_type": "code",
   "execution_count": 2,
   "metadata": {},
   "outputs": [],
   "source": [
    "import pandas as pd\n",
    "import numpy as np\n",
    "import tensorflow as tf\n",
    "from tensorflow.keras.layers import TextVectorization\n",
    "import random\n",
    "from sklearn.preprocessing import LabelEncoder\n",
    "import os"
   ]
  },
  {
   "cell_type": "code",
   "execution_count": 3,
   "metadata": {},
   "outputs": [
    {
     "data": {
      "text/plain": [
       "((9935, 1), (9719, 1), (14195, 1), (5411, 1))"
      ]
     },
     "execution_count": 3,
     "metadata": {},
     "output_type": "execute_result"
    }
   ],
   "source": [
    "\n",
    "pos_df = pd.read_csv('positive10k.txt', sep='\\t', header=None) \n",
    "neg_df = pd.read_csv('negative10k.txt', sep='\\t', header=None)\n",
    "cmt_msg_df = pd.read_csv('commit-messages.txt', sep='\\t', header=None) \n",
    "question_df = pd.read_csv('questions.txt', sep='\\t', header=None) \n",
    "\n",
    "pos_df.shape, neg_df.shape, cmt_msg_df.shape, question_df.shape"
   ]
  },
  {
   "cell_type": "code",
   "execution_count": 4,
   "metadata": {},
   "outputs": [],
   "source": [
    "pos_df[1]='positive'\n",
    "neg_df[1]='negative'\n",
    "cmt_msg_df[1]='enhancement'\n",
    "question_df[1]='question'"
   ]
  },
  {
   "cell_type": "code",
   "execution_count": 5,
   "metadata": {},
   "outputs": [
    {
     "data": {
      "text/plain": [
       "(35065, 2)"
      ]
     },
     "execution_count": 5,
     "metadata": {},
     "output_type": "execute_result"
    }
   ],
   "source": [
    "df = pd.DataFrame(pos_df)\n",
    "df = df.append(neg_df)\n",
    "df = df.append(cmt_msg_df[:10000])\n",
    "df = df.append(question_df)\n",
    "df.shape"
   ]
  },
  {
   "cell_type": "code",
   "execution_count": 6,
   "metadata": {},
   "outputs": [
    {
     "data": {
      "text/plain": [
       "(enhancement    10000\n",
       " positive        9935\n",
       " negative        9719\n",
       " question        5411\n",
       " Name: 1, dtype: int64,\n",
       " 35065,\n",
       " 10000)"
      ]
     },
     "execution_count": 6,
     "metadata": {},
     "output_type": "execute_result"
    }
   ],
   "source": [
    "df[1].value_counts(), df[1].value_counts().sum(),df[1].value_counts()[\"enhancement\"]"
   ]
  },
  {
   "cell_type": "code",
   "execution_count": 7,
   "metadata": {},
   "outputs": [
    {
     "data": {
      "text/plain": [
       "(0.876625, 0.882360342224459, 0.9019703673217409, 1.6200794677508779)"
      ]
     },
     "execution_count": 7,
     "metadata": {},
     "output_type": "execute_result"
    }
   ],
   "source": [
    "weight_for_enhancement = (1 / df[1].value_counts()[\"enhancement\"])*(35065)/4.0\n",
    "weight_for_positive = (1 / df[1].value_counts()[\"positive\"])*(35065)/4.0\n",
    "weight_for_negative = (1 / df[1].value_counts()[\"negative\"])*(35065)/4.0\n",
    "weight_for_question = (1 / df[1].value_counts()[\"question\"])*(35065)/4.0\n",
    "weight_for_enhancement, weight_for_positive,weight_for_negative, weight_for_question"
   ]
  },
  {
   "cell_type": "code",
   "execution_count": 8,
   "metadata": {},
   "outputs": [
    {
     "data": {
      "text/html": [
       "<div>\n",
       "<style scoped>\n",
       "    .dataframe tbody tr th:only-of-type {\n",
       "        vertical-align: middle;\n",
       "    }\n",
       "\n",
       "    .dataframe tbody tr th {\n",
       "        vertical-align: top;\n",
       "    }\n",
       "\n",
       "    .dataframe thead th {\n",
       "        text-align: right;\n",
       "    }\n",
       "</style>\n",
       "<table border=\"1\" class=\"dataframe\">\n",
       "  <thead>\n",
       "    <tr style=\"text-align: right;\">\n",
       "      <th></th>\n",
       "      <th>0</th>\n",
       "      <th>1</th>\n",
       "    </tr>\n",
       "  </thead>\n",
       "  <tbody>\n",
       "    <tr>\n",
       "      <th>6070</th>\n",
       "      <td>Love it I am learning a brand new language  Sp...</td>\n",
       "      <td>positive</td>\n",
       "    </tr>\n",
       "    <tr>\n",
       "      <th>3166</th>\n",
       "      <td>who drives the number 95 car in nascar</td>\n",
       "      <td>question</td>\n",
       "    </tr>\n",
       "    <tr>\n",
       "      <th>665</th>\n",
       "      <td>where can you find dna in the body</td>\n",
       "      <td>question</td>\n",
       "    </tr>\n",
       "    <tr>\n",
       "      <th>1483</th>\n",
       "      <td>LOVE you</td>\n",
       "      <td>positive</td>\n",
       "    </tr>\n",
       "    <tr>\n",
       "      <th>4219</th>\n",
       "      <td>Cute and educated game for kids This game is e...</td>\n",
       "      <td>positive</td>\n",
       "    </tr>\n",
       "    <tr>\n",
       "      <th>...</th>\n",
       "      <td>...</td>\n",
       "      <td>...</td>\n",
       "    </tr>\n",
       "    <tr>\n",
       "      <th>6915</th>\n",
       "      <td>Only two free puzzles out of 6  .. bs</td>\n",
       "      <td>negative</td>\n",
       "    </tr>\n",
       "    <tr>\n",
       "      <th>6265</th>\n",
       "      <td>Excellent Apps Very nice  easy to use....... T...</td>\n",
       "      <td>positive</td>\n",
       "    </tr>\n",
       "    <tr>\n",
       "      <th>1349</th>\n",
       "      <td>0 stars Would give it 5 stars if you would fix...</td>\n",
       "      <td>negative</td>\n",
       "    </tr>\n",
       "    <tr>\n",
       "      <th>860</th>\n",
       "      <td>Good game I can play it but i wish it didn't h...</td>\n",
       "      <td>positive</td>\n",
       "    </tr>\n",
       "    <tr>\n",
       "      <th>5860</th>\n",
       "      <td>Poor Navigation is nice but hard to use if com...</td>\n",
       "      <td>negative</td>\n",
       "    </tr>\n",
       "  </tbody>\n",
       "</table>\n",
       "<p>35065 rows × 2 columns</p>\n",
       "</div>"
      ],
      "text/plain": [
       "                                                      0         1\n",
       "6070  Love it I am learning a brand new language  Sp...  positive\n",
       "3166            who drives the number 95 car in nascar   question\n",
       "665                 where can you find dna in the body   question\n",
       "1483                                           LOVE you  positive\n",
       "4219  Cute and educated game for kids This game is e...  positive\n",
       "...                                                 ...       ...\n",
       "6915              Only two free puzzles out of 6  .. bs  negative\n",
       "6265  Excellent Apps Very nice  easy to use....... T...  positive\n",
       "1349  0 stars Would give it 5 stars if you would fix...  negative\n",
       "860   Good game I can play it but i wish it didn't h...  positive\n",
       "5860  Poor Navigation is nice but hard to use if com...  negative\n",
       "\n",
       "[35065 rows x 2 columns]"
      ]
     },
     "execution_count": 8,
     "metadata": {},
     "output_type": "execute_result"
    }
   ],
   "source": [
    "df = df.sample(frac = 1, random_state = 42)\n",
    "df"
   ]
  },
  {
   "cell_type": "code",
   "execution_count": 9,
   "metadata": {},
   "outputs": [
    {
     "data": {
      "text/plain": [
       "<AxesSubplot:>"
      ]
     },
     "execution_count": 9,
     "metadata": {},
     "output_type": "execute_result"
    },
    {
     "data": {
      "image/png": "[encoded data removed]",
      "text/plain": [
       "<Figure size 432x288 with 1 Axes>"
      ]
     },
     "metadata": {
      "needs_background": "light"
     },
     "output_type": "display_data"
    }
   ],
   "source": [
    "df[1].value_counts().plot(kind='bar')\n"
   ]
  },
  {
   "cell_type": "code",
   "execution_count": 10,
   "metadata": {},
   "outputs": [
    {
     "data": {
      "text/plain": [
       "(28052, 28052, 7013, 7013)"
      ]
     },
     "execution_count": 10,
     "metadata": {},
     "output_type": "execute_result"
    }
   ],
   "source": [
    "from sklearn.model_selection import train_test_split\n",
    "# Use train_test_split to split training data into training and validation sets\n",
    "train_sentences, val_sentences, train_labels, val_labels = train_test_split(df[0].to_numpy(),\n",
    "                                                                            df[1].to_numpy(),\n",
    "                                                                            test_size=0.2, # dedicate 10% of samples to validation set\n",
    "                                                                            random_state=42)\n",
    "len(train_sentences), len(train_labels), len(val_sentences), len(val_labels)\n"
   ]
  },
  {
   "cell_type": "code",
   "execution_count": 11,
   "metadata": {},
   "outputs": [
    {
     "data": {
      "text/plain": [
       "14"
      ]
     },
     "execution_count": 11,
     "metadata": {},
     "output_type": "execute_result"
    }
   ],
   "source": [
    "max_vocab_length = 10000\n",
    "avg_sentence_length = int(np.mean([len(s.split()) for s in train_sentences]))\n",
    "avg_sentence_length"
   ]
  },
  {
   "cell_type": "code",
   "execution_count": 12,
   "metadata": {},
   "outputs": [
    {
     "name": "stderr",
     "output_type": "stream",
     "text": [
      "2022-02-20 23:16:41.959947: I tensorflow/stream_executor/cuda/cuda_gpu_executor.cc:922] could not open file to read NUMA node: /sys/bus/pci/devices/0000:01:00.0/numa_node\n",
      "Your kernel may have been built without NUMA support.\n",
      "2022-02-20 23:16:42.067179: I tensorflow/stream_executor/cuda/cuda_gpu_executor.cc:922] could not open file to read NUMA node: /sys/bus/pci/devices/0000:01:00.0/numa_node\n",
      "Your kernel may have been built without NUMA support.\n",
      "2022-02-20 23:16:42.067734: I tensorflow/stream_executor/cuda/cuda_gpu_executor.cc:922] could not open file to read NUMA node: /sys/bus/pci/devices/0000:01:00.0/numa_node\n",
      "Your kernel may have been built without NUMA support.\n",
      "2022-02-20 23:16:42.069544: I tensorflow/core/platform/cpu_feature_guard.cc:151] This TensorFlow binary is optimized with oneAPI Deep Neural Network Library (oneDNN) to use the following CPU instructions in performance-critical operations:  AVX2 FMA\n",
      "To enable them in other operations, rebuild TensorFlow with the appropriate compiler flags.\n",
      "2022-02-20 23:16:42.070977: I tensorflow/stream_executor/cuda/cuda_gpu_executor.cc:922] could not open file to read NUMA node: /sys/bus/pci/devices/0000:01:00.0/numa_node\n",
      "Your kernel may have been built without NUMA support.\n",
      "2022-02-20 23:16:42.071820: I tensorflow/stream_executor/cuda/cuda_gpu_executor.cc:922] could not open file to read NUMA node: /sys/bus/pci/devices/0000:01:00.0/numa_node\n",
      "Your kernel may have been built without NUMA support.\n",
      "2022-02-20 23:16:42.072501: I tensorflow/stream_executor/cuda/cuda_gpu_executor.cc:922] could not open file to read NUMA node: /sys/bus/pci/devices/0000:01:00.0/numa_node\n",
      "Your kernel may have been built without NUMA support.\n",
      "2022-02-20 23:16:43.687402: I tensorflow/stream_executor/cuda/cuda_gpu_executor.cc:922] could not open file to read NUMA node: /sys/bus/pci/devices/0000:01:00.0/numa_node\n",
      "Your kernel may have been built without NUMA support.\n",
      "2022-02-20 23:16:43.687949: I tensorflow/stream_executor/cuda/cuda_gpu_executor.cc:922] could not open file to read NUMA node: /sys/bus/pci/devices/0000:01:00.0/numa_node\n",
      "Your kernel may have been built without NUMA support.\n",
      "2022-02-20 23:16:43.687965: I tensorflow/core/common_runtime/gpu/gpu_device.cc:1609] Could not identify NUMA node of platform GPU id 0, defaulting to 0.  Your kernel may not have been built with NUMA support.\n",
      "2022-02-20 23:16:43.688436: I tensorflow/stream_executor/cuda/cuda_gpu_executor.cc:922] could not open file to read NUMA node: /sys/bus/pci/devices/0000:01:00.0/numa_node\n",
      "Your kernel may have been built without NUMA support.\n",
      "2022-02-20 23:16:43.688964: I tensorflow/core/common_runtime/gpu/gpu_device.cc:1525] Created device /job:localhost/replica:0/task:0/device:GPU:0 with 2111 MB memory:  -> device: 0, name: NVIDIA GeForce GTX 1650 Ti, pci bus id: 0000:01:00.0, compute capability: 7.5\n"
     ]
    }
   ],
   "source": [
    "text_vectorizer = TextVectorization(max_tokens=max_vocab_length,\n",
    "                                    output_mode=\"int\",\n",
    "                                     standardize=\"lower_and_strip_punctuation\", # how to process text\n",
    "                                    split=\"whitespace\", # how to split tokens\n",
    "                                    output_sequence_length=avg_sentence_length)\n",
    "text_vectorizer.adapt(train_sentences)"
   ]
  },
  {
   "cell_type": "code",
   "execution_count": 13,
   "metadata": {},
   "outputs": [
    {
     "data": {
      "text/plain": [
       "(0,\n",
       " 3,\n",
       " array(['enhancement', 'negative', 'positive', 'question'], dtype=object))"
      ]
     },
     "execution_count": 13,
     "metadata": {},
     "output_type": "execute_result"
    }
   ],
   "source": [
    "# integer encode\n",
    "label_encoder = LabelEncoder()\n",
    "y_train = label_encoder.fit_transform(train_labels)\n",
    "y_test = label_encoder.transform(val_labels)\n",
    "y_train[0],y_test[0] , label_encoder.classes_"
   ]
  },
  {
   "cell_type": "code",
   "execution_count": 14,
   "metadata": {},
   "outputs": [],
   "source": [
    "class_weight = {0: weight_for_enhancement, 1: weight_for_negative, 2: weight_for_positive, 3: weight_for_question}"
   ]
  },
  {
   "cell_type": "code",
   "execution_count": 15,
   "metadata": {},
   "outputs": [
    {
     "data": {
      "text/plain": [
       "('Update `StandardConfigDataLocationResolver` to deal with patterns when',\n",
       " 'when was the minimum wage established in the united states ',\n",
       " 0,\n",
       " 3)"
      ]
     },
     "execution_count": 15,
     "metadata": {},
     "output_type": "execute_result"
    }
   ],
   "source": [
    "train_sentences[0], val_sentences[0], y_train[0], y_test[0]"
   ]
  },
  {
   "cell_type": "code",
   "execution_count": 16,
   "metadata": {},
   "outputs": [
    {
     "name": "stdout",
     "output_type": "stream",
     "text": [
      "WARNING:tensorflow:Layer lstm will not use cuDNN kernels since it doesn't meet the criteria. It will use a generic GPU kernel as fallback when running on GPU.\n",
      "WARNING:tensorflow:Layer lstm will not use cuDNN kernels since it doesn't meet the criteria. It will use a generic GPU kernel as fallback when running on GPU.\n",
      "WARNING:tensorflow:Layer lstm will not use cuDNN kernels since it doesn't meet the criteria. It will use a generic GPU kernel as fallback when running on GPU.\n",
      "WARNING:tensorflow:Layer lstm_1 will not use cuDNN kernels since it doesn't meet the criteria. It will use a generic GPU kernel as fallback when running on GPU.\n",
      "WARNING:tensorflow:Layer lstm_1 will not use cuDNN kernels since it doesn't meet the criteria. It will use a generic GPU kernel as fallback when running on GPU.\n",
      "WARNING:tensorflow:Layer lstm_1 will not use cuDNN kernels since it doesn't meet the criteria. It will use a generic GPU kernel as fallback when running on GPU.\n"
     ]
    }
   ],
   "source": [
    "from tensorflow.keras import layers\n",
    "\n",
    "inputs = layers.Input(shape=(1,), dtype=\"string\") # inputs are 1-dimensional strings\n",
    "x = text_vectorizer(inputs) # turn the input text into numbers\n",
    "x = layers.Embedding(max_vocab_length, 128)(x) # create an embedding of the numerized numbers\n",
    "#x = layers.GRU(128)(x) # create a GRU layer with 128 units\n",
    "x = layers.Bidirectional(layers.LSTM(128, return_sequences=True, dropout=0.9, recurrent_dropout=0.9))(x) # stacking RNN layers requires return_sequences=True\n",
    "x = layers.Bidirectional(layers.LSTM(32, dropout=0.7, recurrent_dropout=0.9))(x) # bidirectional goes both ways so has double the parameters of a regular LSTM layer\n",
    "x = layers.Dense(128, activation='relu')(x)\n",
    "outputs = layers.Dense(4, activation=\"softmax\")(x) # create the output layer, want binary outputs so use sigmoid activation\n",
    "model = tf.keras.Model(inputs, outputs, name=\"model_1_dense\") # construct the model\n",
    "\n",
    "model.compile(loss=\"sparse_categorical_crossentropy\",\n",
    "                optimizer=tf.keras.optimizers.Adam(),\n",
    "                metrics=[\"accuracy\"])"
   ]
  },
  {
   "cell_type": "code",
   "execution_count": 17,
   "metadata": {},
   "outputs": [
    {
     "name": "stdout",
     "output_type": "stream",
     "text": [
      "Epoch 1/5\n",
      "877/877 [==============================] - 104s 109ms/step - loss: 0.5467 - accuracy: 0.7545 - val_loss: 0.2643 - val_accuracy: 0.8953\n",
      "Epoch 2/5\n",
      "877/877 [==============================] - 96s 109ms/step - loss: 0.2509 - accuracy: 0.8978 - val_loss: 0.2079 - val_accuracy: 0.9229\n",
      "Epoch 3/5\n",
      "877/877 [==============================] - 96s 110ms/step - loss: 0.2000 - accuracy: 0.9180 - val_loss: 0.2064 - val_accuracy: 0.9247\n",
      "Epoch 4/5\n",
      "877/877 [==============================] - 95s 108ms/step - loss: 0.1749 - accuracy: 0.9297 - val_loss: 0.2151 - val_accuracy: 0.9251\n",
      "Epoch 5/5\n",
      "877/877 [==============================] - 95s 109ms/step - loss: 0.1595 - accuracy: 0.9373 - val_loss: 0.2090 - val_accuracy: 0.9259\n"
     ]
    }
   ],
   "source": [
    "with tf.device('/cpu:0'):\n",
    "    model_history = model.fit(train_sentences, # input sentences can be a list of strings due to text preprocessing layer built-in model\n",
    "                                y_train,\n",
    "                                epochs=5,\n",
    "                                verbose=1,\n",
    "                                validation_data=(val_sentences, y_test),\n",
    "                                class_weight=class_weight)"
   ]
  },
  {
   "cell_type": "code",
   "execution_count": 22,
   "metadata": {},
   "outputs": [
    {
     "data": {
      "text/plain": [
       "array(['question'], dtype=object)"
      ]
     },
     "execution_count": 22,
     "metadata": {},
     "output_type": "execute_result"
    }
   ],
   "source": [
    "prediction=model.predict([\"Where is the adoption process\"])\n",
    "label_encoder.inverse_transform([np.argmax(prediction)])"
   ]
  },
  {
   "cell_type": "code",
   "execution_count": null,
   "metadata": {},
   "outputs": [],
   "source": []
  }
 ],
 "metadata": {
  "interpreter": {
   "hash": "75edf18549a27df2cc7359a341ae2c28965565f8a50ccb65fb737f4a972ef20d"
  },
  "kernelspec": {
   "display_name": "Python 3.8.10 ('py_vir_env')",
   "language": "python",
   "name": "python3"
  },
  "language_info": {
   "codemirror_mode": {
    "name": "ipython",
    "version": 3
   },
   "file_extension": ".py",
   "mimetype": "text/x-python",
   "name": "python",
   "nbconvert_exporter": "python",
   "pygments_lexer": "ipython3",
   "version": "3.8.10"
  },
  "orig_nbformat": 4
 },
 "nbformat": 4,
 "nbformat_minor": 2
}
