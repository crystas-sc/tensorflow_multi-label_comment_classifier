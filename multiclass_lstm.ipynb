{
 "cells": [
  {
   "cell_type": "code",
   "execution_count": 23,
   "metadata": {},
   "outputs": [],
   "source": [
    "import pandas as pd\n",
    "import numpy as np\n",
    "import tensorflow as tf\n",
    "from tensorflow.keras.layers import TextVectorization\n",
    "import random\n",
    "from sklearn.preprocessing import LabelEncoder\n",
    "import os"
   ]
  },
  {
   "cell_type": "code",
   "execution_count": 24,
   "metadata": {},
   "outputs": [
    {
     "data": {
      "text/plain": [
       "((9935, 1), (9719, 1), (14195, 1), (5742, 1))"
      ]
     },
     "execution_count": 24,
     "metadata": {},
     "output_type": "execute_result"
    }
   ],
   "source": [
    "\n",
    "pos_df = pd.read_csv('positive10k.txt', sep='\\t', header=None) \n",
    "neg_df = pd.read_csv('negative10k.txt', sep='\\t', header=None)\n",
    "cmt_msg_df = pd.read_csv('commit-messages.txt', sep='\\t', header=None) \n",
    "question_df = pd.read_csv('questions.txt', sep='\\t', header=None) \n",
    "\n",
    "pos_df.shape, neg_df.shape, cmt_msg_df.shape, question_df.shape"
   ]
  },
  {
   "cell_type": "code",
   "execution_count": 25,
   "metadata": {},
   "outputs": [],
   "source": [
    "pos_df[1]='positive'\n",
    "neg_df[1]='negative'\n",
    "cmt_msg_df[1]='enhancement'\n",
    "question_df[1]='question'"
   ]
  },
  {
   "cell_type": "code",
   "execution_count": 26,
   "metadata": {},
   "outputs": [
    {
     "data": {
      "text/plain": [
       "(35396, 2)"
      ]
     },
     "execution_count": 26,
     "metadata": {},
     "output_type": "execute_result"
    }
   ],
   "source": [
    "df = pd.DataFrame(pos_df)\n",
    "df = df.append(neg_df)\n",
    "df = df.append(cmt_msg_df[:10000])\n",
    "df = df.append(question_df)\n",
    "df.shape"
   ]
  },
  {
   "cell_type": "code",
   "execution_count": 27,
   "metadata": {},
   "outputs": [
    {
     "data": {
      "text/plain": [
       "(enhancement    10000\n",
       " positive        9935\n",
       " negative        9719\n",
       " question        5742\n",
       " Name: 1, dtype: int64,\n",
       " 35396,\n",
       " 10000)"
      ]
     },
     "execution_count": 27,
     "metadata": {},
     "output_type": "execute_result"
    }
   ],
   "source": [
    "df[1].value_counts(), df[1].value_counts().sum(),df[1].value_counts()[\"enhancement\"]"
   ]
  },
  {
   "cell_type": "code",
   "execution_count": 28,
   "metadata": {},
   "outputs": [
    {
     "data": {
      "text/plain": [
       "(0.8849, 0.8906894816305989, 0.9104846177590287, 1.5411006617903171)"
      ]
     },
     "execution_count": 28,
     "metadata": {},
     "output_type": "execute_result"
    }
   ],
   "source": [
    "total_rows =  df[1].value_counts().sum()\n",
    "weight_for_enhancement = (1 / df[1].value_counts()[\"enhancement\"])*(total_rows)/4.0\n",
    "weight_for_positive = (1 / df[1].value_counts()[\"positive\"])*(total_rows)/4.0\n",
    "weight_for_negative = (1 / df[1].value_counts()[\"negative\"])*(total_rows)/4.0\n",
    "weight_for_question = (1 / df[1].value_counts()[\"question\"])*(total_rows)/4.0\n",
    "weight_for_enhancement, weight_for_positive,weight_for_negative, weight_for_question"
   ]
  },
  {
   "cell_type": "code",
   "execution_count": 29,
   "metadata": {},
   "outputs": [
    {
     "data": {
      "text/html": [
       "<div>\n",
       "<style scoped>\n",
       "    .dataframe tbody tr th:only-of-type {\n",
       "        vertical-align: middle;\n",
       "    }\n",
       "\n",
       "    .dataframe tbody tr th {\n",
       "        vertical-align: top;\n",
       "    }\n",
       "\n",
       "    .dataframe thead th {\n",
       "        text-align: right;\n",
       "    }\n",
       "</style>\n",
       "<table border=\"1\" class=\"dataframe\">\n",
       "  <thead>\n",
       "    <tr style=\"text-align: right;\">\n",
       "      <th></th>\n",
       "      <th>0</th>\n",
       "      <th>1</th>\n",
       "    </tr>\n",
       "  </thead>\n",
       "  <tbody>\n",
       "    <tr>\n",
       "      <th>3089</th>\n",
       "      <td>They don't let you make enough coins to get th...</td>\n",
       "      <td>negative</td>\n",
       "    </tr>\n",
       "    <tr>\n",
       "      <th>1998</th>\n",
       "      <td>where does the paraguay river start and end</td>\n",
       "      <td>question</td>\n",
       "    </tr>\n",
       "    <tr>\n",
       "      <th>557</th>\n",
       "      <td>who plays izabella in transformers the last kn...</td>\n",
       "      <td>question</td>\n",
       "    </tr>\n",
       "    <tr>\n",
       "      <th>1805</th>\n",
       "      <td>Upgrade CI to Docker 20.10.6</td>\n",
       "      <td>enhancement</td>\n",
       "    </tr>\n",
       "    <tr>\n",
       "      <th>5258</th>\n",
       "      <td>who holds the major league baseball career hit...</td>\n",
       "      <td>question</td>\n",
       "    </tr>\n",
       "    <tr>\n",
       "      <th>...</th>\n",
       "      <td>...</td>\n",
       "      <td>...</td>\n",
       "    </tr>\n",
       "    <tr>\n",
       "      <th>6915</th>\n",
       "      <td>Only two free puzzles out of 6  .. bs</td>\n",
       "      <td>negative</td>\n",
       "    </tr>\n",
       "    <tr>\n",
       "      <th>6265</th>\n",
       "      <td>Excellent Apps Very nice  easy to use....... T...</td>\n",
       "      <td>positive</td>\n",
       "    </tr>\n",
       "    <tr>\n",
       "      <th>1349</th>\n",
       "      <td>0 stars Would give it 5 stars if you would fix...</td>\n",
       "      <td>negative</td>\n",
       "    </tr>\n",
       "    <tr>\n",
       "      <th>860</th>\n",
       "      <td>Good game I can play it but i wish it didn't h...</td>\n",
       "      <td>positive</td>\n",
       "    </tr>\n",
       "    <tr>\n",
       "      <th>5860</th>\n",
       "      <td>Poor Navigation is nice but hard to use if com...</td>\n",
       "      <td>negative</td>\n",
       "    </tr>\n",
       "  </tbody>\n",
       "</table>\n",
       "<p>35396 rows × 2 columns</p>\n",
       "</div>"
      ],
      "text/plain": [
       "                                                      0            1\n",
       "3089  They don't let you make enough coins to get th...     negative\n",
       "1998       where does the paraguay river start and end      question\n",
       "557   who plays izabella in transformers the last kn...     question\n",
       "1805                       Upgrade CI to Docker 20.10.6  enhancement\n",
       "5258  who holds the major league baseball career hit...     question\n",
       "...                                                 ...          ...\n",
       "6915              Only two free puzzles out of 6  .. bs     negative\n",
       "6265  Excellent Apps Very nice  easy to use....... T...     positive\n",
       "1349  0 stars Would give it 5 stars if you would fix...     negative\n",
       "860   Good game I can play it but i wish it didn't h...     positive\n",
       "5860  Poor Navigation is nice but hard to use if com...     negative\n",
       "\n",
       "[35396 rows x 2 columns]"
      ]
     },
     "execution_count": 29,
     "metadata": {},
     "output_type": "execute_result"
    }
   ],
   "source": [
    "df = df.sample(frac = 1, random_state = 42)\n",
    "df"
   ]
  },
  {
   "cell_type": "code",
   "execution_count": 30,
   "metadata": {},
   "outputs": [
    {
     "data": {
      "text/plain": [
       "<AxesSubplot:>"
      ]
     },
     "execution_count": 30,
     "metadata": {},
     "output_type": "execute_result"
    },
    {
     "data": {
      "image/png": "[encoded data removed]",
      "text/plain": [
       "<Figure size 432x288 with 1 Axes>"
      ]
     },
     "metadata": {
      "needs_background": "light"
     },
     "output_type": "display_data"
    }
   ],
   "source": [
    "df[1].value_counts().plot(kind='bar')\n"
   ]
  },
  {
   "cell_type": "code",
   "execution_count": 31,
   "metadata": {},
   "outputs": [
    {
     "data": {
      "text/plain": [
       "(28316, 28316, 7080, 7080)"
      ]
     },
     "execution_count": 31,
     "metadata": {},
     "output_type": "execute_result"
    }
   ],
   "source": [
    "from sklearn.model_selection import train_test_split\n",
    "# Use train_test_split to split training data into training and validation sets\n",
    "train_sentences, val_sentences, train_labels, val_labels = train_test_split(df[0].to_numpy(),\n",
    "                                                                            df[1].to_numpy(),\n",
    "                                                                            test_size=0.2, # dedicate 10% of samples to validation set\n",
    "                                                                            random_state=42)\n",
    "len(train_sentences), len(train_labels), len(val_sentences), len(val_labels)\n"
   ]
  },
  {
   "cell_type": "code",
   "execution_count": 32,
   "metadata": {},
   "outputs": [
    {
     "data": {
      "text/plain": [
       "14"
      ]
     },
     "execution_count": 32,
     "metadata": {},
     "output_type": "execute_result"
    }
   ],
   "source": [
    "max_vocab_length = 10000\n",
    "avg_sentence_length = int(np.mean([len(s.split()) for s in train_sentences]))\n",
    "avg_sentence_length"
   ]
  },
  {
   "cell_type": "code",
   "execution_count": 33,
   "metadata": {},
   "outputs": [],
   "source": [
    "text_vectorizer = TextVectorization(max_tokens=max_vocab_length,\n",
    "                                    output_mode=\"int\",\n",
    "                                     standardize=\"lower_and_strip_punctuation\", # how to process text\n",
    "                                    split=\"whitespace\", # how to split tokens\n",
    "                                    output_sequence_length=avg_sentence_length)\n",
    "text_vectorizer.adapt(train_sentences)"
   ]
  },
  {
   "cell_type": "code",
   "execution_count": 34,
   "metadata": {},
   "outputs": [
    {
     "data": {
      "text/plain": [
       "(0,\n",
       " 3,\n",
       " array(['enhancement', 'negative', 'positive', 'question'], dtype=object))"
      ]
     },
     "execution_count": 34,
     "metadata": {},
     "output_type": "execute_result"
    }
   ],
   "source": [
    "# integer encode\n",
    "label_encoder = LabelEncoder()\n",
    "y_train = label_encoder.fit_transform(train_labels)\n",
    "y_test = label_encoder.transform(val_labels)\n",
    "y_train[0],y_test[0] , label_encoder.classes_"
   ]
  },
  {
   "cell_type": "code",
   "execution_count": 35,
   "metadata": {},
   "outputs": [],
   "source": [
    "class_weight = {0: weight_for_enhancement, 1: weight_for_negative, 2: weight_for_positive, 3: weight_for_question}"
   ]
  },
  {
   "cell_type": "code",
   "execution_count": 36,
   "metadata": {},
   "outputs": [
    {
     "data": {
      "text/plain": [
       "('This commit introduces support for an empty `@DefaultValue` which',\n",
       " 'who sings i just want to use your love tonight ',\n",
       " 0,\n",
       " 3)"
      ]
     },
     "execution_count": 36,
     "metadata": {},
     "output_type": "execute_result"
    }
   ],
   "source": [
    "train_sentences[0], val_sentences[0], y_train[0], y_test[0]"
   ]
  },
  {
   "cell_type": "code",
   "execution_count": 37,
   "metadata": {},
   "outputs": [
    {
     "name": "stdout",
     "output_type": "stream",
     "text": [
      "WARNING:tensorflow:Layer lstm_2 will not use cuDNN kernels since it doesn't meet the criteria. It will use a generic GPU kernel as fallback when running on GPU.\n",
      "WARNING:tensorflow:Layer lstm_2 will not use cuDNN kernels since it doesn't meet the criteria. It will use a generic GPU kernel as fallback when running on GPU.\n",
      "WARNING:tensorflow:Layer lstm_2 will not use cuDNN kernels since it doesn't meet the criteria. It will use a generic GPU kernel as fallback when running on GPU.\n",
      "WARNING:tensorflow:Layer lstm_3 will not use cuDNN kernels since it doesn't meet the criteria. It will use a generic GPU kernel as fallback when running on GPU.\n",
      "WARNING:tensorflow:Layer lstm_3 will not use cuDNN kernels since it doesn't meet the criteria. It will use a generic GPU kernel as fallback when running on GPU.\n",
      "WARNING:tensorflow:Layer lstm_3 will not use cuDNN kernels since it doesn't meet the criteria. It will use a generic GPU kernel as fallback when running on GPU.\n"
     ]
    }
   ],
   "source": [
    "from tensorflow.keras import layers\n",
    "\n",
    "inputs = layers.Input(shape=(1,), dtype=\"string\") # inputs are 1-dimensional strings\n",
    "x = text_vectorizer(inputs) # turn the input text into numbers\n",
    "x = layers.Embedding(max_vocab_length, 128)(x) # create an embedding of the numerized numbers\n",
    "#x = layers.GRU(128)(x) # create a GRU layer with 128 units\n",
    "x = layers.Bidirectional(layers.LSTM(128, return_sequences=True, dropout=0.9, recurrent_dropout=0.9))(x) # stacking RNN layers requires return_sequences=True\n",
    "x = layers.Bidirectional(layers.LSTM(32, dropout=0.7, recurrent_dropout=0.9))(x) # bidirectional goes both ways so has double the parameters of a regular LSTM layer\n",
    "x = layers.Dense(128, activation='relu')(x)\n",
    "outputs = layers.Dense(4, activation=\"softmax\")(x) # create the output layer, want binary outputs so use sigmoid activation\n",
    "model = tf.keras.Model(inputs, outputs, name=\"model_1_dense\") # construct the model\n",
    "\n",
    "model.compile(loss=\"sparse_categorical_crossentropy\",\n",
    "                optimizer=tf.keras.optimizers.Adam(),\n",
    "                metrics=[\"accuracy\"])"
   ]
  },
  {
   "cell_type": "code",
   "execution_count": 38,
   "metadata": {},
   "outputs": [
    {
     "name": "stdout",
     "output_type": "stream",
     "text": [
      "Epoch 1/5\n",
      "885/885 [==============================] - 121s 111ms/step - loss: 0.5361 - accuracy: 0.7617 - val_loss: 0.2913 - val_accuracy: 0.8873\n",
      "Epoch 2/5\n",
      "885/885 [==============================] - 99s 112ms/step - loss: 0.2719 - accuracy: 0.8899 - val_loss: 0.2247 - val_accuracy: 0.9161\n",
      "Epoch 3/5\n",
      "885/885 [==============================] - 96s 109ms/step - loss: 0.2114 - accuracy: 0.9147 - val_loss: 0.2119 - val_accuracy: 0.9230\n",
      "Epoch 4/5\n",
      "885/885 [==============================] - 98s 111ms/step - loss: 0.1877 - accuracy: 0.9266 - val_loss: 0.2078 - val_accuracy: 0.9242\n",
      "Epoch 5/5\n",
      "885/885 [==============================] - 95s 108ms/step - loss: 0.1679 - accuracy: 0.9358 - val_loss: 0.2082 - val_accuracy: 0.9267\n"
     ]
    }
   ],
   "source": [
    "with tf.device('/cpu:0'):\n",
    "    model_history = model.fit(train_sentences, # input sentences can be a list of strings due to text preprocessing layer built-in model\n",
    "                                y_train,\n",
    "                                epochs=5,\n",
    "                                verbose=1,\n",
    "                                validation_data=(val_sentences, y_test),\n",
    "                                class_weight=class_weight)"
   ]
  },
  {
   "cell_type": "code",
   "execution_count": 43,
   "metadata": {},
   "outputs": [
    {
     "data": {
      "text/plain": [
       "array(['question'], dtype=object)"
      ]
     },
     "execution_count": 43,
     "metadata": {},
     "output_type": "execute_result"
    }
   ],
   "source": [
    "prediction=model.predict([\"Where are the helm charts\"])\n",
    "label_encoder.inverse_transform([np.argmax(prediction)])"
   ]
  },
  {
   "cell_type": "code",
   "execution_count": null,
   "metadata": {},
   "outputs": [],
   "source": []
  }
 ],
 "metadata": {
  "interpreter": {
   "hash": "75edf18549a27df2cc7359a341ae2c28965565f8a50ccb65fb737f4a972ef20d"
  },
  "kernelspec": {
   "display_name": "Python 3.8.10 ('py_vir_env')",
   "language": "python",
   "name": "python3"
  },
  "language_info": {
   "codemirror_mode": {
    "name": "ipython",
    "version": 3
   },
   "file_extension": ".py",
   "mimetype": "text/x-python",
   "name": "python",
   "nbconvert_exporter": "python",
   "pygments_lexer": "ipython3",
   "version": "3.8.10"
  },
  "orig_nbformat": 4
 },
 "nbformat": 4,
 "nbformat_minor": 2
}
